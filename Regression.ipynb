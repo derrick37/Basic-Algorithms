{
 "cells": [
  {
   "cell_type": "code",
   "execution_count": 0,
   "metadata": {
    "colab": {},
    "colab_type": "code",
    "id": "uik8KFJVxwPf"
   },
   "outputs": [],
   "source": [
    "import numpy as np\n",
    "import matplotlib.pyplot as plt\n",
    "from keras.models import Sequential\n",
    "from keras.layers import Dense\n",
    "from keras.optimizers import Adam"
   ]
  },
  {
   "cell_type": "code",
   "execution_count": 15,
   "metadata": {
    "colab": {
     "base_uri": "https://localhost:8080/",
     "height": 286
    },
    "colab_type": "code",
    "id": "Ep3uX7l1yE5F",
    "outputId": "fd8cd33d-4ed6-4273-cc15-82006f5c8ef2"
   },
   "outputs": [
    {
     "data": {
      "text/plain": [
       "<matplotlib.collections.PathCollection at 0x7f171f37f320>"
      ]
     },
     "execution_count": 15,
     "metadata": {
      "tags": []
     },
     "output_type": "execute_result"
    },
    {
     "data": {
      "image/png": "[encoded data removed]",
      "text/plain": [
       "<Figure size 432x288 with 1 Axes>"
      ]
     },
     "metadata": {
      "tags": []
     },
     "output_type": "display_data"
    }
   ],
   "source": [
    "np.random.seed(0)\n",
    "points = 500\n",
    "X = np.linspace(-3, 3, points)\n",
    "y = np.sin(x) + np.random.uniform(-0.5, 0.5, points)\n",
    "\n",
    "plt.scatter(X, y)"
   ]
  },
  {
   "cell_type": "code",
   "execution_count": 0,
   "metadata": {
    "colab": {},
    "colab_type": "code",
    "id": "bP6C3G_BykEx"
   },
   "outputs": [],
   "source": [
    "model = Sequential()\n",
    "model.add(Dense(50, activation='sigmoid', input_dim=1))\n",
    "model.add(Dense(30, activation='sigmoid'))\n",
    "model.add(Dense(1))"
   ]
  },
  {
   "cell_type": "code",
   "execution_count": 17,
   "metadata": {
    "colab": {
     "base_uri": "https://localhost:8080/",
     "height": 1000
    },
    "colab_type": "code",
    "id": "7IFxm9Qw1ECu",
    "outputId": "7f9bd1b3-1d55-4d64-baca-312cbab535d3"
   },
   "outputs": [
    {
     "name": "stderr",
     "output_type": "stream",
     "text": [
      "W0730 12:35:06.778964 139738302068608 deprecation_wrapper.py:119] From /usr/local/lib/python3.6/dist-packages/keras/optimizers.py:790: The name tf.train.Optimizer is deprecated. Please use tf.compat.v1.train.Optimizer instead.\n",
      "\n",
      "W0730 12:35:06.938292 139738302068608 deprecation_wrapper.py:119] From /usr/local/lib/python3.6/dist-packages/keras/backend/tensorflow_backend.py:986: The name tf.assign_add is deprecated. Please use tf.compat.v1.assign_add instead.\n",
      "\n",
      "W0730 12:35:07.032698 139738302068608 deprecation_wrapper.py:119] From /usr/local/lib/python3.6/dist-packages/keras/backend/tensorflow_backend.py:973: The name tf.assign is deprecated. Please use tf.compat.v1.assign instead.\n",
      "\n"
     ]
    },
    {
     "name": "stdout",
     "output_type": "stream",
     "text": [
      "Epoch 1/50\n",
      "500/500 [==============================] - 1s 1ms/step - loss: 0.4473\n",
      "Epoch 2/50\n",
      "500/500 [==============================] - 0s 44us/step - loss: 0.2372\n",
      "Epoch 3/50\n",
      "500/500 [==============================] - 0s 42us/step - loss: 0.2664\n",
      "Epoch 4/50\n",
      "500/500 [==============================] - 0s 45us/step - loss: 0.2270\n",
      "Epoch 5/50\n",
      "500/500 [==============================] - 0s 41us/step - loss: 0.2282\n",
      "Epoch 6/50\n",
      "500/500 [==============================] - 0s 43us/step - loss: 0.2260\n",
      "Epoch 7/50\n",
      "500/500 [==============================] - 0s 41us/step - loss: 0.2192\n",
      "Epoch 8/50\n",
      "500/500 [==============================] - 0s 42us/step - loss: 0.2218\n",
      "Epoch 9/50\n",
      "500/500 [==============================] - 0s 43us/step - loss: 0.2062\n",
      "Epoch 10/50\n",
      "500/500 [==============================] - 0s 42us/step - loss: 0.1924\n",
      "Epoch 11/50\n",
      "500/500 [==============================] - 0s 42us/step - loss: 0.1925\n",
      "Epoch 12/50\n",
      "500/500 [==============================] - 0s 45us/step - loss: 0.1793\n",
      "Epoch 13/50\n",
      "500/500 [==============================] - 0s 45us/step - loss: 0.1702\n",
      "Epoch 14/50\n",
      "500/500 [==============================] - 0s 41us/step - loss: 0.1597\n",
      "Epoch 15/50\n",
      "500/500 [==============================] - 0s 42us/step - loss: 0.1572\n",
      "Epoch 16/50\n",
      "500/500 [==============================] - 0s 44us/step - loss: 0.1468\n",
      "Epoch 17/50\n",
      "500/500 [==============================] - 0s 44us/step - loss: 0.1409\n",
      "Epoch 18/50\n",
      "500/500 [==============================] - 0s 45us/step - loss: 0.1330\n",
      "Epoch 19/50\n",
      "500/500 [==============================] - 0s 45us/step - loss: 0.1237\n",
      "Epoch 20/50\n",
      "500/500 [==============================] - 0s 47us/step - loss: 0.1282\n",
      "Epoch 21/50\n",
      "500/500 [==============================] - 0s 44us/step - loss: 0.1189\n",
      "Epoch 22/50\n",
      "500/500 [==============================] - 0s 43us/step - loss: 0.1175\n",
      "Epoch 23/50\n",
      "500/500 [==============================] - 0s 42us/step - loss: 0.1191\n",
      "Epoch 24/50\n",
      "500/500 [==============================] - 0s 44us/step - loss: 0.1173\n",
      "Epoch 25/50\n",
      "500/500 [==============================] - 0s 46us/step - loss: 0.1111\n",
      "Epoch 26/50\n",
      "500/500 [==============================] - 0s 45us/step - loss: 0.1081\n",
      "Epoch 27/50\n",
      "500/500 [==============================] - 0s 43us/step - loss: 0.1111\n",
      "Epoch 28/50\n",
      "500/500 [==============================] - 0s 47us/step - loss: 0.1242\n",
      "Epoch 29/50\n",
      "500/500 [==============================] - 0s 44us/step - loss: 0.1237\n",
      "Epoch 30/50\n",
      "500/500 [==============================] - 0s 41us/step - loss: 0.1127\n",
      "Epoch 31/50\n",
      "500/500 [==============================] - 0s 43us/step - loss: 0.1077\n",
      "Epoch 32/50\n",
      "500/500 [==============================] - 0s 41us/step - loss: 0.1144\n",
      "Epoch 33/50\n",
      "500/500 [==============================] - 0s 44us/step - loss: 0.1079\n",
      "Epoch 34/50\n",
      "500/500 [==============================] - 0s 41us/step - loss: 0.1110\n",
      "Epoch 35/50\n",
      "500/500 [==============================] - 0s 42us/step - loss: 0.1045\n",
      "Epoch 36/50\n",
      "500/500 [==============================] - 0s 42us/step - loss: 0.1087\n",
      "Epoch 37/50\n",
      "500/500 [==============================] - 0s 41us/step - loss: 0.1067\n",
      "Epoch 38/50\n",
      "500/500 [==============================] - 0s 49us/step - loss: 0.1054\n",
      "Epoch 39/50\n",
      "500/500 [==============================] - 0s 52us/step - loss: 0.1050\n",
      "Epoch 40/50\n",
      "500/500 [==============================] - 0s 49us/step - loss: 0.1046\n",
      "Epoch 41/50\n",
      "500/500 [==============================] - 0s 51us/step - loss: 0.1151\n",
      "Epoch 42/50\n",
      "500/500 [==============================] - 0s 50us/step - loss: 0.1029\n",
      "Epoch 43/50\n",
      "500/500 [==============================] - 0s 57us/step - loss: 0.1032\n",
      "Epoch 44/50\n",
      "500/500 [==============================] - 0s 48us/step - loss: 0.1058\n",
      "Epoch 45/50\n",
      "500/500 [==============================] - 0s 47us/step - loss: 0.1019\n",
      "Epoch 46/50\n",
      "500/500 [==============================] - 0s 51us/step - loss: 0.1017\n",
      "Epoch 47/50\n",
      "500/500 [==============================] - 0s 49us/step - loss: 0.1120\n",
      "Epoch 48/50\n",
      "500/500 [==============================] - 0s 49us/step - loss: 0.1085\n",
      "Epoch 49/50\n",
      "500/500 [==============================] - 0s 49us/step - loss: 0.1040\n",
      "Epoch 50/50\n",
      "500/500 [==============================] - 0s 49us/step - loss: 0.1078\n"
     ]
    },
    {
     "data": {
      "text/plain": [
       "<keras.callbacks.History at 0x7f171fc6b470>"
      ]
     },
     "execution_count": 17,
     "metadata": {
      "tags": []
     },
     "output_type": "execute_result"
    }
   ],
   "source": [
    "adam = Adam(lr=0.01)\n",
    "model.compile(loss='mse', optimizer=adam)\n",
    "model.fit(X, y, epochs=50)"
   ]
  },
  {
   "cell_type": "code",
   "execution_count": 23,
   "metadata": {
    "colab": {
     "base_uri": "https://localhost:8080/",
     "height": 286
    },
    "colab_type": "code",
    "id": "aKGbZE1s4Q2U",
    "outputId": "b0bda572-4827-437c-bcb9-cafba6ef2c14"
   },
   "outputs": [
    {
     "data": {
      "text/plain": [
       "<function matplotlib.pyplot.show>"
      ]
     },
     "execution_count": 23,
     "metadata": {
      "tags": []
     },
     "output_type": "execute_result"
    },
    {
     "data": {
      "image/png": "[encoded data removed]",
      "text/plain": [
       "<Figure size 432x288 with 1 Axes>"
      ]
     },
     "metadata": {
      "tags": []
     },
     "output_type": "display_data"
    }
   ],
   "source": [
    "predictions=model.predict(X)\n",
    "plt.scatter(X, y)\n",
    "plt.plot(X, predictions, 'ro')\n",
    "plt.show"
   ]
  }
 ],
 "metadata": {
  "colab": {
   "name": "Regression.ipynb",
   "provenance": [],
   "version": "0.3.2"
  },
  "kernelspec": {
   "display_name": "Python 3",
   "language": "python",
   "name": "python3"
  },
  "language_info": {
   "codemirror_mode": {
    "name": "ipython",
    "version": 3
   },
   "file_extension": ".py",
   "mimetype": "text/x-python",
   "name": "python",
   "nbconvert_exporter": "python",
   "pygments_lexer": "ipython3",
   "version": "3.7.3"
  }
 },
 "nbformat": 4,
 "nbformat_minor": 1
}
