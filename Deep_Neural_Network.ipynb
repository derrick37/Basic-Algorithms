{
 "cells": [
  {
   "cell_type": "code",
   "execution_count": 23,
   "metadata": {},
   "outputs": [],
   "source": [
    "import numpy as np\n",
    "import matplotlib.pyplot as plt\n",
    "import keras\n",
    "from sklearn import datasets\n",
    "from keras.models import Sequential\n",
    "from keras.layers import Dense\n",
    "from keras.optimizers import Adam"
   ]
  },
  {
   "cell_type": "code",
   "execution_count": 24,
   "metadata": {},
   "outputs": [],
   "source": [
    "np.random.seed(0)"
   ]
  },
  {
   "cell_type": "code",
   "execution_count": 25,
   "metadata": {},
   "outputs": [],
   "source": [
    "n_pts = 500\n",
    "X, y = datasets.make_circles(n_samples=n_pts, random_state = 123, noise=0.1, factor=0.2)"
   ]
  },
  {
   "cell_type": "code",
   "execution_count": 26,
   "metadata": {},
   "outputs": [
    {
     "data": {
      "text/plain": [
       "<matplotlib.collections.PathCollection at 0x2b2fb1fa7f0>"
      ]
     },
     "execution_count": 26,
     "metadata": {},
     "output_type": "execute_result"
    },
    {
     "data": {
      "image/png": "[encoded data removed]",
      "text/plain": [
       "<Figure size 432x288 with 1 Axes>"
      ]
     },
     "metadata": {
      "needs_background": "light"
     },
     "output_type": "display_data"
    }
   ],
   "source": [
    "plt.scatter(X[y==0, 0], X[y==0, 1])\n",
    "plt.scatter(X[y==1, 0], X[y==1, 1])"
   ]
  },
  {
   "cell_type": "code",
   "execution_count": 27,
   "metadata": {},
   "outputs": [],
   "source": [
    "model = Sequential()\n",
    "model.add(Dense(4, input_shape=(2,), activation='sigmoid'))\n",
    "model.add(Dense(1, activation='sigmoid')) #Input already specified in the hidden layer\n",
    "model.compile(Adam(lr=0.01), 'binary_crossentropy', metrics=['accuracy'] )"
   ]
  },
  {
   "cell_type": "code",
   "execution_count": 28,
   "metadata": {},
   "outputs": [
    {
     "name": "stdout",
     "output_type": "stream",
     "text": [
      "Epoch 1/100\n",
      "500/500 [==============================] - 0s 951us/step - loss: 0.6959 - acc: 0.5100\n",
      "Epoch 2/100\n",
      "500/500 [==============================] - 0s 101us/step - loss: 0.6937 - acc: 0.6200\n",
      "Epoch 3/100\n",
      "500/500 [==============================] - 0s 98us/step - loss: 0.6925 - acc: 0.5140\n",
      "Epoch 4/100\n",
      "500/500 [==============================] - 0s 102us/step - loss: 0.6916 - acc: 0.6780\n",
      "Epoch 5/100\n",
      "500/500 [==============================] - 0s 106us/step - loss: 0.6905 - acc: 0.6320\n",
      "Epoch 6/100\n",
      "500/500 [==============================] - 0s 96us/step - loss: 0.6890 - acc: 0.3640\n",
      "Epoch 7/100\n",
      "500/500 [==============================] - 0s 100us/step - loss: 0.6865 - acc: 0.6460\n",
      "Epoch 8/100\n",
      "500/500 [==============================] - 0s 98us/step - loss: 0.6838 - acc: 0.6740\n",
      "Epoch 9/100\n",
      "500/500 [==============================] - 0s 121us/step - loss: 0.6796 - acc: 0.7580\n",
      "Epoch 10/100\n",
      "500/500 [==============================] - 0s 98us/step - loss: 0.6734 - acc: 0.7980\n",
      "Epoch 11/100\n",
      "500/500 [==============================] - 0s 102us/step - loss: 0.6659 - acc: 0.8380\n",
      "Epoch 12/100\n",
      "500/500 [==============================] - 0s 53us/step - loss: 0.6547 - acc: 0.8600\n",
      "Epoch 13/100\n",
      "500/500 [==============================] - 0s 54us/step - loss: 0.6421 - acc: 0.8780\n",
      "Epoch 14/100\n",
      "500/500 [==============================] - 0s 70us/step - loss: 0.6269 - acc: 0.8920\n",
      "Epoch 15/100\n",
      "500/500 [==============================] - 0s 70us/step - loss: 0.6077 - acc: 0.8800\n",
      "Epoch 16/100\n",
      "500/500 [==============================] - 0s 68us/step - loss: 0.5883 - acc: 0.8700\n",
      "Epoch 17/100\n",
      "500/500 [==============================] - 0s 66us/step - loss: 0.5677 - acc: 0.8860\n",
      "Epoch 18/100\n",
      "500/500 [==============================] - 0s 62us/step - loss: 0.5443 - acc: 0.8560\n",
      "Epoch 19/100\n",
      "500/500 [==============================] - 0s 62us/step - loss: 0.5222 - acc: 0.8860\n",
      "Epoch 20/100\n",
      "500/500 [==============================] - 0s 68us/step - loss: 0.4978 - acc: 0.8880\n",
      "Epoch 21/100\n",
      "500/500 [==============================] - 0s 66us/step - loss: 0.4753 - acc: 0.8880\n",
      "Epoch 22/100\n",
      "500/500 [==============================] - 0s 70us/step - loss: 0.4526 - acc: 0.8920\n",
      "Epoch 23/100\n",
      "500/500 [==============================] - 0s 103us/step - loss: 0.4303 - acc: 0.8920\n",
      "Epoch 24/100\n",
      "500/500 [==============================] - 0s 101us/step - loss: 0.4095 - acc: 0.9040\n",
      "Epoch 25/100\n",
      "500/500 [==============================] - 0s 94us/step - loss: 0.3901 - acc: 0.9000\n",
      "Epoch 26/100\n",
      "500/500 [==============================] - 0s 98us/step - loss: 0.3703 - acc: 0.9140\n",
      "Epoch 27/100\n",
      "500/500 [==============================] - 0s 78us/step - loss: 0.3519 - acc: 0.9100\n",
      "Epoch 28/100\n",
      "500/500 [==============================] - 0s 54us/step - loss: 0.3347 - acc: 0.9160\n",
      "Epoch 29/100\n",
      "500/500 [==============================] - 0s 56us/step - loss: 0.3178 - acc: 0.9180\n",
      "Epoch 30/100\n",
      "500/500 [==============================] - 0s 58us/step - loss: 0.3023 - acc: 0.9220\n",
      "Epoch 31/100\n",
      "500/500 [==============================] - 0s 94us/step - loss: 0.2873 - acc: 0.9240\n",
      "Epoch 32/100\n",
      "500/500 [==============================] - 0s 98us/step - loss: 0.2736 - acc: 0.9320\n",
      "Epoch 33/100\n",
      "500/500 [==============================] - 0s 92us/step - loss: 0.2608 - acc: 0.9400\n",
      "Epoch 34/100\n",
      "500/500 [==============================] - 0s 98us/step - loss: 0.2488 - acc: 0.9440\n",
      "Epoch 35/100\n",
      "500/500 [==============================] - 0s 94us/step - loss: 0.2371 - acc: 0.9640\n",
      "Epoch 36/100\n",
      "500/500 [==============================] - 0s 96us/step - loss: 0.2260 - acc: 0.9780\n",
      "Epoch 37/100\n",
      "500/500 [==============================] - 0s 92us/step - loss: 0.2161 - acc: 0.9860\n",
      "Epoch 38/100\n",
      "500/500 [==============================] - 0s 98us/step - loss: 0.2061 - acc: 0.9860\n",
      "Epoch 39/100\n",
      "500/500 [==============================] - 0s 93us/step - loss: 0.1968 - acc: 0.9900\n",
      "Epoch 40/100\n",
      "500/500 [==============================] - 0s 120us/step - loss: 0.1877 - acc: 0.9940\n",
      "Epoch 41/100\n",
      "500/500 [==============================] - 0s 90us/step - loss: 0.1793 - acc: 0.9940\n",
      "Epoch 42/100\n",
      "500/500 [==============================] - 0s 54us/step - loss: 0.1713 - acc: 0.9940\n",
      "Epoch 43/100\n",
      "500/500 [==============================] - 0s 50us/step - loss: 0.1637 - acc: 0.9960\n",
      "Epoch 44/100\n",
      "500/500 [==============================] - 0s 48us/step - loss: 0.1563 - acc: 0.9960\n",
      "Epoch 45/100\n",
      "500/500 [==============================] - 0s 60us/step - loss: 0.1493 - acc: 0.9960\n",
      "Epoch 46/100\n",
      "500/500 [==============================] - 0s 54us/step - loss: 0.1422 - acc: 0.9960\n",
      "Epoch 47/100\n",
      "500/500 [==============================] - 0s 46us/step - loss: 0.1354 - acc: 0.9960\n",
      "Epoch 48/100\n",
      "500/500 [==============================] - 0s 56us/step - loss: 0.1285 - acc: 0.9960\n",
      "Epoch 49/100\n",
      "500/500 [==============================] - 0s 51us/step - loss: 0.1214 - acc: 0.9960\n",
      "Epoch 50/100\n",
      "500/500 [==============================] - 0s 53us/step - loss: 0.1149 - acc: 0.9960\n",
      "Epoch 51/100\n",
      "500/500 [==============================] - 0s 55us/step - loss: 0.1082 - acc: 0.9960\n",
      "Epoch 52/100\n",
      "500/500 [==============================] - 0s 55us/step - loss: 0.1022 - acc: 0.9960\n",
      "Epoch 53/100\n",
      "500/500 [==============================] - 0s 48us/step - loss: 0.0967 - acc: 0.9960\n",
      "Epoch 54/100\n",
      "500/500 [==============================] - 0s 56us/step - loss: 0.0915 - acc: 0.9960\n",
      "Epoch 55/100\n",
      "500/500 [==============================] - 0s 54us/step - loss: 0.0867 - acc: 0.9960\n",
      "Epoch 56/100\n",
      "500/500 [==============================] - 0s 56us/step - loss: 0.0824 - acc: 0.9960\n",
      "Epoch 57/100\n",
      "500/500 [==============================] - 0s 60us/step - loss: 0.0784 - acc: 0.9980\n",
      "Epoch 58/100\n",
      "500/500 [==============================] - 0s 60us/step - loss: 0.0747 - acc: 0.9980\n",
      "Epoch 59/100\n",
      "500/500 [==============================] - 0s 62us/step - loss: 0.0714 - acc: 0.9980\n",
      "Epoch 60/100\n",
      "500/500 [==============================] - 0s 60us/step - loss: 0.0683 - acc: 0.9980\n",
      "Epoch 61/100\n",
      "500/500 [==============================] - 0s 70us/step - loss: 0.0654 - acc: 0.9980\n",
      "Epoch 62/100\n",
      "500/500 [==============================] - 0s 69us/step - loss: 0.0627 - acc: 0.9980\n",
      "Epoch 63/100\n",
      "500/500 [==============================] - 0s 68us/step - loss: 0.0602 - acc: 0.9980\n",
      "Epoch 64/100\n",
      "500/500 [==============================] - 0s 72us/step - loss: 0.0579 - acc: 0.9980\n",
      "Epoch 65/100\n",
      "500/500 [==============================] - 0s 68us/step - loss: 0.0557 - acc: 0.9980\n",
      "Epoch 66/100\n",
      "500/500 [==============================] - 0s 72us/step - loss: 0.0537 - acc: 0.9980\n",
      "Epoch 67/100\n",
      "500/500 [==============================] - 0s 70us/step - loss: 0.0518 - acc: 0.9980\n",
      "Epoch 68/100\n",
      "500/500 [==============================] - 0s 68us/step - loss: 0.0500 - acc: 0.9980\n",
      "Epoch 69/100\n",
      "500/500 [==============================] - 0s 68us/step - loss: 0.0484 - acc: 0.9980\n",
      "Epoch 70/100\n",
      "500/500 [==============================] - 0s 68us/step - loss: 0.0467 - acc: 0.9980\n",
      "Epoch 71/100\n",
      "500/500 [==============================] - 0s 68us/step - loss: 0.0452 - acc: 0.9980\n",
      "Epoch 72/100\n",
      "500/500 [==============================] - 0s 72us/step - loss: 0.0438 - acc: 0.9980\n",
      "Epoch 73/100\n",
      "500/500 [==============================] - 0s 68us/step - loss: 0.0425 - acc: 0.9980\n",
      "Epoch 74/100\n",
      "500/500 [==============================] - 0s 68us/step - loss: 0.0411 - acc: 0.9980\n",
      "Epoch 75/100\n",
      "500/500 [==============================] - 0s 68us/step - loss: 0.0399 - acc: 0.9980\n",
      "Epoch 76/100\n",
      "500/500 [==============================] - 0s 78us/step - loss: 0.0388 - acc: 0.9980\n",
      "Epoch 77/100\n",
      "500/500 [==============================] - 0s 80us/step - loss: 0.0377 - acc: 0.9980\n",
      "Epoch 78/100\n",
      "500/500 [==============================] - 0s 80us/step - loss: 0.0367 - acc: 0.9980\n",
      "Epoch 79/100\n",
      "500/500 [==============================] - 0s 90us/step - loss: 0.0356 - acc: 0.9980\n",
      "Epoch 80/100\n",
      "500/500 [==============================] - 0s 76us/step - loss: 0.0347 - acc: 0.9980\n",
      "Epoch 81/100\n",
      "500/500 [==============================] - 0s 58us/step - loss: 0.0340 - acc: 0.9980\n",
      "Epoch 82/100\n",
      "500/500 [==============================] - 0s 56us/step - loss: 0.0329 - acc: 0.9980\n",
      "Epoch 83/100\n",
      "500/500 [==============================] - 0s 52us/step - loss: 0.0321 - acc: 0.9980\n",
      "Epoch 84/100\n",
      "500/500 [==============================] - 0s 52us/step - loss: 0.0312 - acc: 0.9980\n",
      "Epoch 85/100\n",
      "500/500 [==============================] - 0s 52us/step - loss: 0.0305 - acc: 0.9980\n",
      "Epoch 86/100\n",
      "500/500 [==============================] - 0s 58us/step - loss: 0.0297 - acc: 1.0000\n",
      "Epoch 87/100\n",
      "500/500 [==============================] - 0s 55us/step - loss: 0.0290 - acc: 1.0000\n",
      "Epoch 88/100\n",
      "500/500 [==============================] - 0s 52us/step - loss: 0.0283 - acc: 1.0000\n",
      "Epoch 89/100\n",
      "500/500 [==============================] - 0s 52us/step - loss: 0.0277 - acc: 1.0000\n",
      "Epoch 90/100\n",
      "500/500 [==============================] - 0s 56us/step - loss: 0.0270 - acc: 1.0000\n",
      "Epoch 91/100\n",
      "500/500 [==============================] - 0s 50us/step - loss: 0.0264 - acc: 1.0000\n",
      "Epoch 92/100\n",
      "500/500 [==============================] - 0s 50us/step - loss: 0.0259 - acc: 1.0000\n",
      "Epoch 93/100\n",
      "500/500 [==============================] - 0s 48us/step - loss: 0.0253 - acc: 1.0000\n",
      "Epoch 94/100\n",
      "500/500 [==============================] - 0s 54us/step - loss: 0.0247 - acc: 1.0000\n",
      "Epoch 95/100\n",
      "500/500 [==============================] - 0s 52us/step - loss: 0.0242 - acc: 1.0000\n",
      "Epoch 96/100\n",
      "500/500 [==============================] - 0s 50us/step - loss: 0.0237 - acc: 1.0000\n",
      "Epoch 97/100\n",
      "500/500 [==============================] - 0s 58us/step - loss: 0.0232 - acc: 1.0000\n",
      "Epoch 98/100\n",
      "500/500 [==============================] - 0s 58us/step - loss: 0.0227 - acc: 1.0000\n",
      "Epoch 99/100\n",
      "500/500 [==============================] - 0s 66us/step - loss: 0.0222 - acc: 1.0000\n",
      "Epoch 100/100\n",
      "500/500 [==============================] - 0s 66us/step - loss: 0.0217 - acc: 1.0000\n"
     ]
    }
   ],
   "source": [
    "h = model.fit(x=X, y=y, verbose = 1, batch_size = 20, epochs = 100, shuffle='true' )"
   ]
  },
  {
   "cell_type": "code",
   "execution_count": 30,
   "metadata": {},
   "outputs": [
    {
     "data": {
      "text/plain": [
       "Text(0.5, 1.0, 'accuracy')"
      ]
     },
     "execution_count": 30,
     "metadata": {},
     "output_type": "execute_result"
    },
    {
     "data": {
      "image/png": "[encoded data removed]",
      "text/plain": [
       "<Figure size 432x288 with 1 Axes>"
      ]
     },
     "metadata": {
      "needs_background": "light"
     },
     "output_type": "display_data"
    }
   ],
   "source": [
    "plt.plot(h.history['acc'])\n",
    "plt.xlabel('epoch')\n",
    "plt.legend(['accuracy'])\n",
    "plt.title('accuracy')"
   ]
  },
  {
   "cell_type": "code",
   "execution_count": 31,
   "metadata": {},
   "outputs": [
    {
     "data": {
      "text/plain": [
       "Text(0.5, 1.0, 'loss')"
      ]
     },
     "execution_count": 31,
     "metadata": {},
     "output_type": "execute_result"
    },
    {
     "data": {
      "image/png": "[encoded data removed]",
      "text/plain": [
       "<Figure size 432x288 with 1 Axes>"
      ]
     },
     "metadata": {
      "needs_background": "light"
     },
     "output_type": "display_data"
    }
   ],
   "source": [
    "plt.plot(h.history['loss'])\n",
    "plt.xlabel('epoch')\n",
    "plt.legend(['loss'])\n",
    "plt.title('loss')"
   ]
  },
  {
   "cell_type": "code",
   "execution_count": 32,
   "metadata": {},
   "outputs": [],
   "source": [
    "def plot_decision_boundary(X, y, model):\n",
    "    x_span = np.linspace(min(X[:,0]) - 0.25, max(X[:,0]) + 0.25, 50)\n",
    "    y_span = np.linspace(min(X[:,1]) - 0.25, max(X[:,1]) + 0.25, 50)\n",
    "    xx, yy = np.meshgrid(x_span, y_span)\n",
    "    xx_, yy_ = xx.ravel(), yy.ravel()\n",
    "    grid = np.c_[xx_, yy_]\n",
    "    pred_func = model.predict(grid)\n",
    "    z = pred_func.reshape(xx.shape)\n",
    "    plt.contourf(xx, yy, z)"
   ]
  },
  {
   "cell_type": "code",
   "execution_count": 33,
   "metadata": {},
   "outputs": [
    {
     "data": {
      "text/plain": [
       "<matplotlib.collections.PathCollection at 0x2b2fc7999b0>"
      ]
     },
     "execution_count": 33,
     "metadata": {},
     "output_type": "execute_result"
    },
    {
     "data": {
      "image/png": "[encoded data removed]",
      "text/plain": [
       "<Figure size 432x288 with 1 Axes>"
      ]
     },
     "metadata": {
      "needs_background": "light"
     },
     "output_type": "display_data"
    }
   ],
   "source": [
    "plot_decision_boundary(X, y, model)\n",
    "plt.scatter(X[:n_pts,0], X[:n_pts,1])\n",
    "plt.scatter(X[n_pts:,0], X[n_pts:,1])"
   ]
  },
  {
   "cell_type": "code",
   "execution_count": 39,
   "metadata": {},
   "outputs": [
    {
     "name": "stdout",
     "output_type": "stream",
     "text": [
      "prediction is  [[0.02547223]]\n"
     ]
    },
    {
     "data": {
      "image/png": "[encoded data removed]",
      "text/plain": [
       "<Figure size 432x288 with 1 Axes>"
      ]
     },
     "metadata": {
      "needs_background": "light"
     },
     "output_type": "display_data"
    }
   ],
   "source": [
    "plot_decision_boundary(X, y, model)\n",
    "plt.scatter(X[:n_pts,0], X[:n_pts,1])\n",
    "plt.scatter(X[n_pts:,0], X[n_pts:,1])\n",
    "x=0\n",
    "y=0.75\n",
    "point=np.array([[x,y]])\n",
    "prediction=model.predict(point)\n",
    "plt.plot([x], [y], marker='o', markersize=10, color='red')\n",
    "print(\"prediction is \", prediction)"
   ]
  },
  {
   "cell_type": "code",
   "execution_count": null,
   "metadata": {},
   "outputs": [],
   "source": []
  }
 ],
 "metadata": {
  "kernelspec": {
   "display_name": "Python 3",
   "language": "python",
   "name": "python3"
  },
  "language_info": {
   "codemirror_mode": {
    "name": "ipython",
    "version": 3
   },
   "file_extension": ".py",
   "mimetype": "text/x-python",
   "name": "python",
   "nbconvert_exporter": "python",
   "pygments_lexer": "ipython3",
   "version": "3.7.3"
  }
 },
 "nbformat": 4,
 "nbformat_minor": 2
}
