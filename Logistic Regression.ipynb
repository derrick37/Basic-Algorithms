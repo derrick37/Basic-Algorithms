{
 "cells": [
  {
   "cell_type": "code",
   "execution_count": 1,
   "metadata": {},
   "outputs": [],
   "source": [
    "import numpy as np\n",
    "import matplotlib.pyplot as plt"
   ]
  },
  {
   "cell_type": "code",
   "execution_count": 2,
   "metadata": {},
   "outputs": [],
   "source": [
    "def draw(x1, x2):\n",
    "    ln = plt.plot(x1, x2)\n",
    "    \n",
    "def sigmoid(score):\n",
    "    return 1/(1 + np.exp(-score))\n",
    "def calculate_error (line_parameters, points, y):\n",
    "    m = points.shape[0]\n",
    "    p = sigmoid(points * line_parameters)\n",
    "    cross_entropy = -(1/m) * (np.log(p).T * y + np.log(1-p).T * (1-y))\n",
    "    return cross_entropy"
   ]
  },
  {
   "cell_type": "code",
   "execution_count": 3,
   "metadata": {},
   "outputs": [
    {
     "data": {
      "text/plain": [
       "<matplotlib.collections.PathCollection at 0x1db4b19a5c0>"
      ]
     },
     "execution_count": 3,
     "metadata": {},
     "output_type": "execute_result"
    },
    {
     "data": {
      "image/png": "[encoded data removed]",
      "text/plain": [
       "<Figure size 288x288 with 1 Axes>"
      ]
     },
     "metadata": {
      "needs_background": "light"
     },
     "output_type": "display_data"
    }
   ],
   "source": [
    "n_pts = 10\n",
    "random_x1_values = np.random.normal(10, 2, n_pts)\n",
    "random_x2_values = np.random.normal(12, 2, n_pts)\n",
    "top_region = np.array([random_x1_values, random_x2_values]).T\n",
    "_, ax = plt.subplots(figsize = (4, 4))\n",
    "ax.scatter(top_region[:, 0], top_region[:, 1])"
   ]
  },
  {
   "cell_type": "code",
   "execution_count": 4,
   "metadata": {},
   "outputs": [
    {
     "name": "stdout",
     "output_type": "stream",
     "text": [
      "(20, 3) (3, 1)\n",
      "[[0.03931564]\n",
      " [0.03501576]\n",
      " [0.03827031]\n",
      " [0.03610047]\n",
      " [0.03534306]\n",
      " [0.06269972]\n",
      " [0.03112147]\n",
      " [0.06249233]\n",
      " [0.05349052]\n",
      " [0.0674906 ]\n",
      " [0.28173205]\n",
      " [0.16189811]\n",
      " [0.21306447]\n",
      " [0.34134008]\n",
      " [0.14810052]\n",
      " [0.23938912]\n",
      " [0.14452073]\n",
      " [0.15144952]\n",
      " [0.16933356]\n",
      " [0.16753751]]\n",
      "[[0.]\n",
      " [0.]\n",
      " [0.]\n",
      " [0.]\n",
      " [0.]\n",
      " [0.]\n",
      " [0.]\n",
      " [0.]\n",
      " [0.]\n",
      " [0.]\n",
      " [1.]\n",
      " [1.]\n",
      " [1.]\n",
      " [1.]\n",
      " [1.]\n",
      " [1.]\n",
      " [1.]\n",
      " [1.]\n",
      " [1.]\n",
      " [1.]]\n"
     ]
    }
   ],
   "source": [
    "n_pts = 10\n",
    "np.random.seed(0)\n",
    "bias = np.ones(n_pts)\n",
    "top_region = np.array([np.random.normal(10, 2, n_pts), np.random.normal(12, 2, n_pts), bias]).T\n",
    "bottom_region = np.array([np.random.normal(5, 2, n_pts), np.random.normal(6, 2, n_pts), bias]).T\n",
    "all_points = np.vstack((top_region, bottom_region))\n",
    "w1 = -0.1\n",
    "w2 = -0.15\n",
    "b = 0\n",
    "line_parameters = np.matrix([w1, w2, b]).transpose()\n",
    "print(all_points.shape, line_parameters.shape)\n",
    "# w1x1 + w2x2 + b = 0\n",
    "# x2 = -b/w2 + x1*(-w1/w2)\n",
    "x1 = np.array([bottom_region[:, 0].min(), top_region[:,1].max()])\n",
    "x2 = - b / w2 + x1 * (- w1 / w2)\n",
    "linear_combination = (all_points * line_parameters)\n",
    "probabilities = sigmoid(linear_combination)\n",
    "print(probabilities)\n",
    "y = np.array([np.zeros(n_pts), np.ones(n_pts)]).reshape(n_pts*2, 1)\n",
    "print(y)"
   ]
  },
  {
   "cell_type": "code",
   "execution_count": 5,
   "metadata": {},
   "outputs": [
    {
     "data": {
      "image/png": "[encoded data removed]",
      "text/plain": [
       "<Figure size 288x288 with 1 Axes>"
      ]
     },
     "metadata": {
      "needs_background": "light"
     },
     "output_type": "display_data"
    }
   ],
   "source": [
    "_, ax = plt.subplots(figsize = (4, 4))\n",
    "ax.scatter(top_region[:, 0], top_region[:, 1], color = 'r')\n",
    "ax.scatter(bottom_region[:, 0], bottom_region[:, 1], color = 'b')\n",
    "draw(x1,x2)\n",
    "plt.show()"
   ]
  },
  {
   "cell_type": "code",
   "execution_count": 6,
   "metadata": {},
   "outputs": [
    {
     "name": "stdout",
     "output_type": "stream",
     "text": [
      "[[0.84528472]]\n"
     ]
    }
   ],
   "source": [
    "print(calculate_error(line_parameters, all_points, y))"
   ]
  }
 ],
 "metadata": {
  "kernelspec": {
   "display_name": "Python 3",
   "language": "python",
   "name": "python3"
  },
  "language_info": {
   "codemirror_mode": {
    "name": "ipython",
    "version": 3
   },
   "file_extension": ".py",
   "mimetype": "text/x-python",
   "name": "python",
   "nbconvert_exporter": "python",
   "pygments_lexer": "ipython3",
   "version": "3.7.3"
  }
 },
 "nbformat": 4,
 "nbformat_minor": 2
}
